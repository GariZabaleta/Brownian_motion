{
  "nbformat": 4,
  "nbformat_minor": 0,
  "metadata": {
    "colab": {
      "provenance": [],
      "collapsed_sections": [],
      "authorship_tag": "ABX9TyPtK0TsDe2D1kMnduGtq+GY"
    },
    "kernelspec": {
      "name": "python3",
      "display_name": "Python 3"
    },
    "language_info": {
      "name": "python"
    }
  },
  "cells": [
    {
      "cell_type": "markdown",
      "source": [
        "## Literature\n",
        "\n",
        "https://quantpy.com.au/stochastic-calculus/brownian-motion-for-financial-mathematics/\n",
        "\n",
        "\n",
        "https://www.youtube.com/watch?v=sIKD1tQryHg\n",
        "\n",
        "https://www.quantstart.com/articles/geometric-brownian-motion-simulation-with-python/\n",
        "\n",
        "https://towardsdatascience.com/stochastic-processes-simulation-brownian-motion-the-basics-c1d71585d9f9\n",
        "\n",
        "\n",
        "https://github.com/GariZabaleta/jpx-tokyo-stock-exchange-prediction/blob/master/jpx-prediction.ipynb\n",
        "\n",
        "\n",
        "https://towardsdatascience.com/5-amazing-pandas-features-you-probably-dont-know-about-5533498aac88\n",
        "\n",
        "\n",
        "**Calculating log values**\n",
        "\n",
        "https://stackoverflow.com/questions/31742545/python-calculating-log-returns-of-a-time-series\n"
      ],
      "metadata": {
        "id": "y26RdeHhOrdx"
      }
    },
    {
      "cell_type": "markdown",
      "source": [
        "\n",
        "### Import libraries\n",
        "\n",
        "---\n",
        "\n"
      ],
      "metadata": {
        "id": "KPSn7PvKLQWo"
      }
    },
    {
      "cell_type": "code",
      "source": [
        "import math\n",
        "import itertools\n",
        "import numpy as np\n",
        "import scipy.stats as stats\n",
        "import matplotlib.pyplot as plt\n",
        "import pandas as pd\n",
        "import random\n",
        "import seaborn as sns"
      ],
      "metadata": {
        "id": "JM7FZRO7OsWb"
      },
      "execution_count": null,
      "outputs": []
    },
    {
      "cell_type": "code",
      "source": [
        "from sklearn.ensemble import RandomForestRegressor\n",
        "from sklearn import neighbors\n",
        "from sklearn.tree import DecisionTreeRegressor\n",
        "from sklearn.model_selection import TimeSeriesSplit, GridSearchCV\n",
        "from sklearn.metrics import mean_squared_error,mean_absolute_error"
      ],
      "metadata": {
        "id": "PYaf7yrfLSxv"
      },
      "execution_count": null,
      "outputs": []
    },
    {
      "cell_type": "code",
      "source": [
        "import plotly.graph_objects as go\n",
        "import plotly.express as px\n",
        "from plotly.subplots import make_subplots"
      ],
      "metadata": {
        "id": "HHCKJcuhabu-"
      },
      "execution_count": null,
      "outputs": []
    },
    {
      "cell_type": "markdown",
      "source": [
        "### Generating Geometric Brownian motion\n",
        "\n",
        "---"
      ],
      "metadata": {
        "id": "TDXxYN0483EV"
      }
    },
    {
      "cell_type": "code",
      "source": [
        "# gbm.py\n",
        "\n",
        "import os\n",
        "import random\n",
        "import string\n",
        "import numpy as np\n",
        "import pandas as pd\n",
        "\n",
        "\n",
        "class GeometricBrownianMotionAssetSimulator:\n",
        "    \"\"\"\n",
        "    This callable class will generate a daily\n",
        "    open-high-low-close-volume (OHLCV) based DataFrame to simulate\n",
        "    asset pricing paths with Geometric Brownian Motion for pricing\n",
        "    and a Pareto distribution for volume.\n",
        "\n",
        "    It will output the results to a CSV with a randomly generated\n",
        "    ticker smbol.\n",
        "\n",
        "    For now the tool is hardcoded to generate business day daily\n",
        "    data between two dates, inclusive.\n",
        "\n",
        "    Note that the pricing and volume data is completely uncorrelated,\n",
        "    which is not likely to be the case in real asset paths.\n",
        "\n",
        "    Parameters\n",
        "    ----------\n",
        "    start_date : `str`\n",
        "        The starting date in YYYY-MM-DD format.\n",
        "    end_date : `str`\n",
        "        The ending date in YYYY-MM-DD format.\n",
        "    init_price : `float`\n",
        "        The initial price of the asset.\n",
        "    mu : `float`\n",
        "        The mean 'drift' of the asset.\n",
        "    sigma : `float`\n",
        "        The 'volatility' of the asset.\n",
        "    \"\"\"\n",
        "\n",
        "    def __init__(\n",
        "        self,\n",
        "        start_date,\n",
        "        end_date,\n",
        "        init_price,\n",
        "        mu,\n",
        "        sigma,\n",
        "    ):\n",
        "        self.start_date = start_date\n",
        "        self.end_date = end_date\n",
        "        self.init_price = init_price\n",
        "        self.mu = mu\n",
        "        self.sigma = sigma\n",
        "\n",
        "    def _generate_random_symbol(self):\n",
        "        \"\"\"\n",
        "        Generates a random ticker symbol string composed of\n",
        "        uppercase ASCII characters to use in the CSV output filename.\n",
        "\n",
        "        Returns\n",
        "        -------\n",
        "        `str`\n",
        "            The random ticker string composed of uppercase letters.\n",
        "        \"\"\"\n",
        "        return ''.join(\n",
        "            random.choices(\n",
        "                string.ascii_uppercase,\n",
        "                k=4\n",
        "            )\n",
        "        )\n",
        "\n",
        "    def _create_empty_frame(self,symbol):\n",
        "        \"\"\"\n",
        "        Creates the empty Pandas DataFrame with a date column using\n",
        "        business days between two dates. Each of the price/volume\n",
        "        columns are set to zero.\n",
        "\n",
        "        Returns\n",
        "        -------\n",
        "        `pd.DataFrame`\n",
        "            The empty OHLCV DataFrame for subsequent population.\n",
        "        \"\"\"\n",
        "        date_range = pd.date_range(\n",
        "            self.start_date,\n",
        "            self.end_date,\n",
        "            freq='B'\n",
        "        )\n",
        "\n",
        "        zeros = pd.Series(np.zeros(len(date_range)))\n",
        "\n",
        "        return pd.DataFrame(\n",
        "            {\n",
        "                'date': date_range,\n",
        "                symbol: zeros\n",
        "            }\n",
        "        )[['date', symbol]]\n",
        "\n",
        "    def _create_geometric_brownian_motion(self, data):\n",
        "        \"\"\"\n",
        "        Calculates an asset price path using the analytical solution\n",
        "        to the Geometric Brownian Motion stochastic differential\n",
        "        equation (SDE).\n",
        "\n",
        "        This divides the usual timestep by four so that the pricing\n",
        "        series is four times as long, to account for the need to have\n",
        "        an open, high, low and close price for each day. These prices\n",
        "        are subsequently correctly bounded in a further method.\n",
        "\n",
        "        Parameters\n",
        "        ----------\n",
        "        data : `pd.DataFrame`\n",
        "            The DataFrame needed to calculate length of the time series.\n",
        "\n",
        "        Returns\n",
        "        -------\n",
        "        `np.ndarray`\n",
        "            The asset price path (four times as long to include OHLC).\n",
        "        \"\"\"\n",
        "        n = len(data)\n",
        "        T = n / 252.0  # Business days in a year\n",
        "        dt = T / (4.0 * n)  # 4.0 is needed as four prices per day are required\n",
        "        \n",
        "        # Vectorised implementation of asset path generation\n",
        "        # including four prices per day, used to create OHLC\n",
        "        asset_path = np.exp(\n",
        "            (self.mu - self.sigma**2 / 2) * dt +\n",
        "            self.sigma * np.random.normal(0, np.sqrt(dt), size=(4 * n))\n",
        "        )\n",
        "        \n",
        "        return self.init_price * asset_path.cumprod()\n",
        "\n",
        "    def _append_path_to_data(self, data, path,symbol):\n",
        "        \"\"\"\n",
        "        Correctly accounts for the max/min calculations required\n",
        "        to generate a correct high and low price for a particular\n",
        "        day's pricing.\n",
        "\n",
        "        The open price takes every fourth value, while the close\n",
        "        price takes every fourth value offset by 3 (last value in\n",
        "        every block of four).\n",
        "\n",
        "        The high and low prices are calculated by taking the max\n",
        "        (resp. min) of all four prices within a day and then\n",
        "        adjusting these values as necessary.\n",
        "\n",
        "        This is all carried out in place so the frame is not returned\n",
        "        via the method.\n",
        "\n",
        "        Parameters\n",
        "        ----------\n",
        "        data : `pd.DataFrame`\n",
        "            The price/volume DataFrame to modify in place.\n",
        "        path : `np.ndarray`\n",
        "            The original NumPy array of the asset price path.\n",
        "        \"\"\"\n",
        "        data[symbol] = path[3::4]\n",
        "\n",
        "\n",
        "    def __call__(self):\n",
        "        \"\"\"\n",
        "        The entrypoint for generating the asset OHLCV frame. Firstly this\n",
        "        generates a symbol and an empty frame. It then populates this\n",
        "        frame with some simulated GBM data. The asset volume is then appended\n",
        "        to this data and finally it is saved to disk as a CSV.\n",
        "        \"\"\"\n",
        "        symbol = self._generate_random_symbol()\n",
        "        data = self._create_empty_frame()\n",
        "        path = self._create_geometric_brownian_motion(data)\n",
        "        self._append_path_to_data(data, path)\n",
        "\n",
        "\n",
        "def gen(random_seed, start_date, end_date, init_price, mu, sigma):\n",
        "    random_seed = int(random_seed)\n",
        "    init_price = float(init_price)\n",
        "    mu = float(mu)\n",
        "    sigma = float(sigma)\n",
        "\n",
        "    # Need to seed both Python and NumPy separately\n",
        "    random.seed(random_seed)\n",
        "    np.random.seed(seed=random_seed)\n",
        "\n",
        "    gbmas = GeometricBrownianMotionAssetSimulator(\n",
        "        start_date,\n",
        "        end_date,\n",
        "        init_price,\n",
        "        mu,\n",
        "        sigma,\n",
        "    )\n",
        "    return gbmas\n",
        "     "
      ],
      "metadata": {
        "id": "I13WHURmDw_6"
      },
      "execution_count": null,
      "outputs": []
    },
    {
      "cell_type": "code",
      "source": [
        "start_data = \"2017-01-01\"\n",
        "end_data = \"2022-12-31\""
      ],
      "metadata": {
        "id": "KYsycvhozg_t"
      },
      "execution_count": null,
      "outputs": []
    },
    {
      "cell_type": "code",
      "source": [
        "df = []\n",
        "for i in range(0,10):\n",
        "  stock = gen(i, start_data, end_data,100,0.1,0.2)\n",
        "\n",
        "  symbol = stock._generate_random_symbol()        \n",
        "  data = stock._create_empty_frame(symbol)\n",
        "  path = stock._create_geometric_brownian_motion(data)\n",
        "  stock._append_path_to_data(data, path,symbol)\n",
        "\n",
        "  if i == 0:\n",
        "    df = data.copy()\n",
        "  else:\n",
        "    df = pd.concat([df,data[symbol]], axis = 1)\n",
        "\n",
        "df = df.set_index(\"date\")"
      ],
      "metadata": {
        "id": "wk0nJvY80JGU"
      },
      "execution_count": null,
      "outputs": []
    },
    {
      "cell_type": "code",
      "source": [
        "display(df)"
      ],
      "metadata": {
        "id": "d26QM5Co0JQW"
      },
      "execution_count": null,
      "outputs": []
    },
    {
      "cell_type": "code",
      "source": [
        "n = random.randint(0,10)"
      ],
      "metadata": {
        "id": "KTejMWRGsJ0_"
      },
      "execution_count": null,
      "outputs": []
    },
    {
      "cell_type": "code",
      "source": [
        "X = df.copy()\n",
        "X.drop(X.columns[n], axis=1, inplace = True)\n",
        "y = df.iloc[:,n]"
      ],
      "metadata": {
        "id": "AmbngRR6CP1k"
      },
      "execution_count": null,
      "outputs": []
    },
    {
      "cell_type": "code",
      "source": [
        "corr_mat = np.abs(X.corr())\n",
        "fig, ax = plt.subplots(figsize=(10,5))\n",
        "sns.heatmap(corr_mat,square = True, ax = ax)"
      ],
      "metadata": {
        "id": "iv_ltdT1DZuE"
      },
      "execution_count": null,
      "outputs": []
    },
    {
      "cell_type": "code",
      "source": [
        "period = [3,5,10,21]\n",
        "col = X.columns\n",
        "for j in col:\n",
        "  for i in period:\n",
        "    X[f\"pct_{j}_{i}\"] = X[j].pct_change(i)\n",
        "    X[f\"pct_{j}_{i}\"] = X[f\"pct_{j}_{i}\"].interpolate(method='linear',limit_direction='backward')\n",
        "\n",
        "    X[f\"Volatility_{j}_{i}\"] = np.log(df[j]).diff().rolling(i).std()\n",
        "    X[f\"Volatility_{j}_{i}\"] = X[f\"Volatility_{j}_{i}\"].interpolate(method='linear',limit_direction='backward')"
      ],
      "metadata": {
        "id": "bnXnRzOjI2tw"
      },
      "execution_count": null,
      "outputs": []
    },
    {
      "cell_type": "code",
      "source": [
        "X"
      ],
      "metadata": {
        "id": "GPggaewXQeEF"
      },
      "execution_count": null,
      "outputs": []
    },
    {
      "cell_type": "code",
      "source": [
        "X.drop(col, axis = 1, inplace = True)"
      ],
      "metadata": {
        "id": "uY4M4dIfQew_"
      },
      "execution_count": null,
      "outputs": []
    },
    {
      "cell_type": "code",
      "source": [
        "X"
      ],
      "metadata": {
        "id": "fBzBTa_uQGQ_"
      },
      "execution_count": null,
      "outputs": []
    },
    {
      "cell_type": "code",
      "source": [
        "fig, ax = plt.subplots(figsize=(10,5))\n",
        "sns.histplot(data=X[\"pct_IDQB_10\"].values, bins=100,\n",
        "             ax=ax)\n",
        "ax.axvline(x=X[\"pct_IDQB_10\"].mean(), color='red', linestyle='dotted', linewidth=2, \n",
        "           label='Mean')\n",
        "\n",
        "ax.set_title(\"Target Mean Distibution Date\\n\"\n",
        "             f\"\"\"Min {round(X[\"pct_IDQB_10\"].min(), 4)} | \"\"\"\n",
        "             f\"\"\"Max {round(X[\"pct_IDQB_10\"].max(), 4)} | \"\"\"\n",
        "             f\"\"\"Skewness {round(X[\"pct_IDQB_10\"].skew(), 2)} | \"\"\"\n",
        "             f\"\"\"Kurtosis {round(X[\"pct_IDQB_10\"].kurtosis(), 2)}\"\"\")\n",
        "\n",
        "ax.set_xlabel(\"Target Mean\")\n",
        "ax.set_ylabel(\"Date Count\")\n",
        "ax.legend()\n",
        "plt.show()\n"
      ],
      "metadata": {
        "id": "LZmehKCa8bJG"
      },
      "execution_count": null,
      "outputs": []
    },
    {
      "cell_type": "markdown",
      "source": [
        "## Model selection\n",
        "\n",
        "- K-Nearest Neighbour Regressor\n",
        "- Decision tree\n",
        "- Random Forest\n"
      ],
      "metadata": {
        "id": "5BiWYJVlRkTB"
      }
    },
    {
      "cell_type": "code",
      "source": [
        "mae_dict = {\"KNN\":[],\"Decision_Tree\":[],\"Random_Forest\":[]}"
      ],
      "metadata": {
        "id": "OUFS_YNuc-_G"
      },
      "execution_count": null,
      "outputs": []
    },
    {
      "cell_type": "markdown",
      "source": [
        "**K-Nearest Neighbour Regressor**\n",
        "\n",
        "\n",
        "\n"
      ],
      "metadata": {
        "id": "OTqRGEdnT3-z"
      }
    },
    {
      "cell_type": "code",
      "source": [
        "ts_fold = TimeSeriesSplit(n_splits=5,gap=10)\n",
        "mae_ls = []"
      ],
      "metadata": {
        "id": "IvX16raoUAPF"
      },
      "execution_count": null,
      "outputs": []
    },
    {
      "cell_type": "code",
      "source": [
        "%%time\n",
        "for fold, (train_idx, val_idx) in enumerate(ts_fold.split(X, y)):\n",
        "    \n",
        "    print(f\"\\n========================== Fold {fold+1} ==========================\")\n",
        "        \n",
        "    X_train, y_train = X.iloc[train_idx,:], y[train_idx]\n",
        "    X_valid, y_val = X.iloc[val_idx,:], y[val_idx]\n",
        "    \n",
        "    print(\"Train Date range: {} to {}\".format(X_train.index.min(),X_train.index.max()))\n",
        "    print(\"Valid Date range: {} to {}\".format(X_valid.index.min(),X_valid.index.max()))\n",
        "\n",
        "    n_neighbors = 3\n",
        "    knn_reg = neighbors.KNeighborsRegressor(n_neighbors)\n",
        "    knn_reg.fit(X_train, y_train)\n",
        "    y_pred = knn_reg.predict(X_valid)\n",
        "\n",
        "    rmse = np.sqrt(mean_squared_error(y_val, y_pred))\n",
        "    mae = mean_absolute_error(y_val, y_pred)\n",
        "\n",
        "    print(f\"\\nMAE: {round(mae,2)}\")\n",
        "    mae_ls.append(mae)\n",
        "\n",
        "\n",
        "print(f\"\\nMean MAE {round(sum(mae_ls)/len(mae_ls),2)}\")\n",
        "mae_dict[\"KNN\"].append(round(sum(mae_ls)/len(mae_ls),2))"
      ],
      "metadata": {
        "id": "72NRElJiUARg"
      },
      "execution_count": null,
      "outputs": []
    },
    {
      "cell_type": "markdown",
      "source": [
        "**Decision Tree** \n",
        "\n"
      ],
      "metadata": {
        "id": "oTmwUgmdT4Bg"
      }
    },
    {
      "cell_type": "code",
      "source": [
        "ts_fold = TimeSeriesSplit(n_splits=5,gap=10)\n",
        "mae_ls = []"
      ],
      "metadata": {
        "id": "JYId9j_zUA5m"
      },
      "execution_count": null,
      "outputs": []
    },
    {
      "cell_type": "code",
      "source": [
        "%%time\n",
        "for fold, (train_idx, val_idx) in enumerate(ts_fold.split(X, y)):\n",
        "    \n",
        "    print(f\"\\n========================== Fold {fold+1} ==========================\")\n",
        "        \n",
        "    X_train, y_train = X.iloc[train_idx,:], y[train_idx]\n",
        "    X_valid, y_val = X.iloc[val_idx,:], y[val_idx]\n",
        "    \n",
        "    print(\"Train Date range: {} to {}\".format(X_train.index.min(),X_train.index.max()))\n",
        "    print(\"Valid Date range: {} to {}\".format(X_valid.index.min(),X_valid.index.max()))\n",
        "\n",
        "    tree_reg = DecisionTreeRegressor(random_state=42)\n",
        "    tree_reg.fit(X_train, y_train)\n",
        "    y_pred = tree_reg.predict(X_valid)\n",
        "\n",
        "    rmse = np.sqrt(mean_squared_error(y_val, y_pred))\n",
        "    mae = mean_absolute_error(y_val, y_pred)\n",
        "\n",
        "    print(f\"\\nMAE: {round(mae,2)}\")\n",
        "\n",
        "    mae_ls.append(mae)\n",
        "\n",
        "print(f\"\\nMean MAE {round(sum(mae_ls)/len(mae_ls),2)}\")\n",
        "mae_dict[\"Decision_Tree\"].append(round(sum(mae_ls)/len(mae_ls),2))"
      ],
      "metadata": {
        "id": "1XaWAaiiXiIz"
      },
      "execution_count": null,
      "outputs": []
    },
    {
      "cell_type": "markdown",
      "source": [
        "**Random Forest**"
      ],
      "metadata": {
        "id": "7Yd9RuBnS7wV"
      }
    },
    {
      "cell_type": "code",
      "source": [
        "ts_fold = TimeSeriesSplit(n_splits=5,gap=10)\n",
        "feat_importance_forest = pd.DataFrame()\n",
        "mae_ls = []"
      ],
      "metadata": {
        "id": "KQ-QwEoTRS0_"
      },
      "execution_count": null,
      "outputs": []
    },
    {
      "cell_type": "code",
      "source": [
        "%%time\n",
        "for fold, (train_idx, val_idx) in enumerate(ts_fold.split(X, y)):\n",
        "    \n",
        "    print(f\"\\n========================== Fold {fold+1} ==========================\")\n",
        "        \n",
        "    X_train, y_train = X.iloc[train_idx,:], y[train_idx]\n",
        "    X_valid, y_val = X.iloc[val_idx,:], y[val_idx]\n",
        "    \n",
        "    print(\"Train Date range: {} to {}\".format(X_train.index.min(),X_train.index.max()))\n",
        "    print(\"Valid Date range: {} to {}\".format(X_valid.index.min(),X_valid.index.max()))\n",
        "\n",
        "\n",
        "    regr = RandomForestRegressor()\n",
        "    regr.fit(X_train, y_train)\n",
        "    y_pred = regr.predict(X_valid)\n",
        "    rmse = np.sqrt(mean_squared_error(y_val, y_pred))\n",
        "    mae = mean_absolute_error(y_val, y_pred)\n",
        "\n",
        "    print(f\"\\nMAE: {round(mae,2)}\")\n",
        "\n",
        "    mae_ls.append(mae)\n",
        "\n",
        "print(f\"\\nMean MAE {round(sum(mae_ls)/len(mae_ls),2)}\")\n",
        "mae_dict[\"Random_Forest\"].append(round(sum(mae_ls)/len(mae_ls),2))"
      ],
      "metadata": {
        "colab": {
          "base_uri": "https://localhost:8080/"
        },
        "id": "oW1jHCzeR0Z1",
        "outputId": "a1cf5cd3-b73b-4018-8ddd-3c9786fc7b07"
      },
      "execution_count": 68,
      "outputs": [
        {
          "output_type": "stream",
          "name": "stdout",
          "text": [
            "\n",
            "========================== Fold 1 ==========================\n",
            "Train Date range: 2017-01-02 00:00:00 to 2017-12-22 00:00:00\n",
            "Valid Date range: 2018-01-08 00:00:00 to 2019-01-04 00:00:00\n",
            "\n",
            "MAE: 7.41\n",
            "\n",
            "========================== Fold 2 ==========================\n",
            "Train Date range: 2017-01-02 00:00:00 to 2018-12-21 00:00:00\n",
            "Valid Date range: 2019-01-07 00:00:00 to 2020-01-03 00:00:00\n",
            "\n",
            "MAE: 7.23\n",
            "\n",
            "========================== Fold 3 ==========================\n",
            "Train Date range: 2017-01-02 00:00:00 to 2019-12-20 00:00:00\n",
            "Valid Date range: 2020-01-06 00:00:00 to 2021-01-01 00:00:00\n",
            "\n",
            "MAE: 18.6\n",
            "\n",
            "========================== Fold 4 ==========================\n",
            "Train Date range: 2017-01-02 00:00:00 to 2020-12-18 00:00:00\n",
            "Valid Date range: 2021-01-04 00:00:00 to 2021-12-31 00:00:00\n",
            "\n",
            "MAE: 9.19\n",
            "\n",
            "========================== Fold 5 ==========================\n",
            "Train Date range: 2017-01-02 00:00:00 to 2021-12-17 00:00:00\n",
            "Valid Date range: 2022-01-03 00:00:00 to 2022-12-30 00:00:00\n",
            "\n",
            "MAE: 8.66\n",
            "\n",
            "Mean MAE 10.22\n",
            "CPU times: user 15.3 s, sys: 0 ns, total: 15.3 s\n",
            "Wall time: 15.3 s\n"
          ]
        }
      ]
    },
    {
      "cell_type": "markdown",
      "source": [
        "**Selecting the best model**"
      ],
      "metadata": {
        "id": "1yCf1QM6iYak"
      }
    },
    {
      "cell_type": "code",
      "source": [
        "print(mae_dict)"
      ],
      "metadata": {
        "colab": {
          "base_uri": "https://localhost:8080/"
        },
        "id": "vGrlkEAIiWCo",
        "outputId": "49a41b8e-9d5d-4b90-ff53-eccffdf84d25"
      },
      "execution_count": 69,
      "outputs": [
        {
          "output_type": "stream",
          "name": "stdout",
          "text": [
            "{'KNN': [13.3], 'Decision_Tree': [13.17], 'Random_Forest': [10.22]}\n"
          ]
        }
      ]
    },
    {
      "cell_type": "markdown",
      "source": [
        "Since Random Forest model provides a better MAE, it will be used to build the final model"
      ],
      "metadata": {
        "id": "odTYyMJbjOqj"
      }
    },
    {
      "cell_type": "code",
      "source": [
        "ts_fold = TimeSeriesSplit(n_splits=5,gap=10)\n",
        "regr_final = RandomForestRegressor()\n",
        "\n",
        "gsearch = GridSearchCV(estimator=regr_final, cv=ts_fold,\n",
        "                       scoring = 'neg_mean_absolute_percentage_error',\n",
        "                      param_grid={'max_features': range(2, 50, 2)})\n",
        "gsearch.fit(X, y)\n",
        "results = gsearch.cv_results_"
      ],
      "metadata": {
        "id": "m8CvPoa7iWLU"
      },
      "execution_count": 77,
      "outputs": []
    },
    {
      "cell_type": "code",
      "source": [
        "#plot the results\n",
        "plt.figure(figsize=(13, 13))\n",
        "plt.title(\"GridSearchCV\",\n",
        "          fontsize=16)\n",
        "\n",
        "plt.xlabel(\"max_features\")\n",
        "plt.ylabel(\"Score\")\n",
        "\n",
        "ax = plt.gca()\n",
        "ax.set_xlim(0, 50)\n",
        "\n",
        "\n",
        "# Get the regular numpy array from the MaskedArray\n",
        "X_axis = np.array(results['param_max_features'].data, dtype=float)\n",
        "\n",
        "\n",
        "for sample, style in (('train', '--'), ('test', '-')):\n",
        "    sample_score_mean = (results['mean_%s_score' % (sample)])\n",
        "    sample_score_std = (results['std_%s_score' % (sample)])\n",
        "    ax.fill_between(X_axis, sample_score_mean - sample_score_std,\n",
        "                    sample_score_mean + sample_score_std,\n",
        "                    alpha=0.1 if sample == 'test' else 0)\n",
        "    ax.plot(X_axis, sample_score_mean, style,\n",
        "            alpha=1 if sample == 'test' else 0.7,\n",
        "            label=\"(%s)\" % ( sample))\n",
        "\n",
        "best_index = np.nonzero(results['rank_test_score' ] == 1)[0][0]\n",
        "best_score =  (-results['mean_test_score' ][best_index])\n",
        "\n",
        "# Plot a dotted vertical line at the best score for that scorer marked by x\n",
        "ax.plot([X_axis[best_index], ] * 2, [best_score, best_score],\n",
        "        linestyle='-.',  marker='x', markeredgewidth=3, ms=8)\n",
        "\n",
        "# Annotate the best score for that scorer\n",
        "ax.annotate(\"%0.2f\" % best_score,\n",
        "            (X_axis[best_index], best_score + 0.005))\n",
        "\n",
        "plt.legend(loc=\"best\")\n",
        "plt.grid(False)\n",
        "plt.show()"
      ],
      "metadata": {
        "colab": {
          "base_uri": "https://localhost:8080/",
          "height": 1000
        },
        "id": "35hBK6a-o8rL",
        "outputId": "38e107e1-41fa-4461-98d3-29d063d939d7"
      },
      "execution_count": 79,
      "outputs": [
        {
          "output_type": "error",
          "ename": "KeyError",
          "evalue": "ignored",
          "traceback": [
            "\u001b[0;31m---------------------------------------------------------------------------\u001b[0m",
            "\u001b[0;31mKeyError\u001b[0m                                  Traceback (most recent call last)",
            "\u001b[0;32m<ipython-input-79-bcb55c8a7a4f>\u001b[0m in \u001b[0;36m<module>\u001b[0;34m\u001b[0m\n\u001b[1;32m     16\u001b[0m \u001b[0;34m\u001b[0m\u001b[0m\n\u001b[1;32m     17\u001b[0m \u001b[0;32mfor\u001b[0m \u001b[0msample\u001b[0m\u001b[0;34m,\u001b[0m \u001b[0mstyle\u001b[0m \u001b[0;32min\u001b[0m \u001b[0;34m(\u001b[0m\u001b[0;34m(\u001b[0m\u001b[0;34m'train'\u001b[0m\u001b[0;34m,\u001b[0m \u001b[0;34m'--'\u001b[0m\u001b[0;34m)\u001b[0m\u001b[0;34m,\u001b[0m \u001b[0;34m(\u001b[0m\u001b[0;34m'test'\u001b[0m\u001b[0;34m,\u001b[0m \u001b[0;34m'-'\u001b[0m\u001b[0;34m)\u001b[0m\u001b[0;34m)\u001b[0m\u001b[0;34m:\u001b[0m\u001b[0;34m\u001b[0m\u001b[0;34m\u001b[0m\u001b[0m\n\u001b[0;32m---> 18\u001b[0;31m     \u001b[0msample_score_mean\u001b[0m \u001b[0;34m=\u001b[0m \u001b[0;34m(\u001b[0m\u001b[0mresults\u001b[0m\u001b[0;34m[\u001b[0m\u001b[0;34m'mean_%s_score'\u001b[0m \u001b[0;34m%\u001b[0m \u001b[0;34m(\u001b[0m\u001b[0msample\u001b[0m\u001b[0;34m)\u001b[0m\u001b[0;34m]\u001b[0m\u001b[0;34m)\u001b[0m\u001b[0;34m\u001b[0m\u001b[0;34m\u001b[0m\u001b[0m\n\u001b[0m\u001b[1;32m     19\u001b[0m     \u001b[0msample_score_std\u001b[0m \u001b[0;34m=\u001b[0m \u001b[0;34m(\u001b[0m\u001b[0mresults\u001b[0m\u001b[0;34m[\u001b[0m\u001b[0;34m'std_%s_score'\u001b[0m \u001b[0;34m%\u001b[0m \u001b[0;34m(\u001b[0m\u001b[0msample\u001b[0m\u001b[0;34m)\u001b[0m\u001b[0;34m]\u001b[0m\u001b[0;34m)\u001b[0m\u001b[0;34m\u001b[0m\u001b[0;34m\u001b[0m\u001b[0m\n\u001b[1;32m     20\u001b[0m     ax.fill_between(X_axis, sample_score_mean - sample_score_std,\n",
            "\u001b[0;31mKeyError\u001b[0m: 'mean_train_score'"
          ]
        },
        {
          "output_type": "display_data",
          "data": {
            "text/plain": [
              "<Figure size 936x936 with 1 Axes>"
            ],
            "image/png": "[encoded data removed]"
          },
          "metadata": {
            "needs_background": "light"
          }
        }
      ]
    },
    {
      "cell_type": "code",
      "source": [],
      "metadata": {
        "id": "oNaABXlxo81n"
      },
      "execution_count": null,
      "outputs": []
    },
    {
      "cell_type": "code",
      "source": [
        "feat_importance_forest['avg'] = feat_importance_forest.mean(axis=1)\n",
        "feat_importance_forest = feat_importance_forest.sort_values(by='avg',ascending=True)\n",
        "feat_importance_forest = feat_importance_forest.tail(20)\n",
        "pal=sns.color_palette(\"plasma_r\", 29).as_hex()[2:]\n",
        "\n",
        "fig=go.Figure()\n",
        "for i in range(len(feat_importance_forest.index)):\n",
        "    fig.add_shape(dict(type=\"line\", y0=i, y1=i, x0=0, x1=feat_importance_forest['avg'][i], \n",
        "                       line_color=pal[::-1][i],opacity=0.7,line_width=4))\n",
        "    fig.add_trace(go.Scatter(x=feat_importance_forest['avg'], y=feat_importance_forest.index, mode='markers', \n",
        "                             marker_color=pal[::-1], marker_size=8,\n",
        "                             hovertemplate='%{y} Importance = %{x:.0f}<extra></extra>'))\n",
        "    fig.update_layout(title='Overall Feature Importance Random Forest', \n",
        "                      xaxis=dict(title='Average Importance',zeroline=False),\n",
        "                      yaxis_showgrid=False, margin=dict(l=120,t=80),\n",
        "                      height=700, width=800)\n",
        "fig.show()"
      ],
      "metadata": {
        "id": "O58zqwBOTTQE"
      },
      "execution_count": null,
      "outputs": []
    },
    {
      "cell_type": "code",
      "source": [],
      "metadata": {
        "id": "SHGp2oq8ZNlL"
      },
      "execution_count": null,
      "outputs": []
    },
    {
      "cell_type": "code",
      "source": [],
      "metadata": {
        "id": "OlvW7sYqTTSm"
      },
      "execution_count": null,
      "outputs": []
    },
    {
      "cell_type": "code",
      "source": [],
      "metadata": {
        "id": "U5LAShfgTTVf"
      },
      "execution_count": null,
      "outputs": []
    },
    {
      "cell_type": "code",
      "source": [],
      "metadata": {
        "id": "Ka6bycBJTTYY"
      },
      "execution_count": null,
      "outputs": []
    }
  ]
}