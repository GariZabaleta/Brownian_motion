{
  "nbformat": 4,
  "nbformat_minor": 0,
  "metadata": {
    "colab": {
      "provenance": [],
      "collapsed_sections": [],
      "authorship_tag": "ABX9TyPuWD8gdlyorE/rdUfPEaA+"
    },
    "kernelspec": {
      "name": "python3",
      "display_name": "Python 3"
    },
    "language_info": {
      "name": "python"
    }
  },
  "cells": [
    {
      "cell_type": "markdown",
      "source": [
        "## Literature\n",
        "\n",
        "https://quantpy.com.au/stochastic-calculus/brownian-motion-for-financial-mathematics/\n",
        "\n",
        "\n",
        "https://www.youtube.com/watch?v=sIKD1tQryHg\n",
        "\n",
        "https://www.quantstart.com/articles/geometric-brownian-motion-simulation-with-python/\n",
        "\n",
        "https://towardsdatascience.com/stochastic-processes-simulation-brownian-motion-the-basics-c1d71585d9f9\n",
        "\n",
        "\n",
        "https://github.com/GariZabaleta/jpx-tokyo-stock-exchange-prediction/blob/master/jpx-prediction.ipynb\n",
        "\n",
        "\n",
        "https://towardsdatascience.com/5-amazing-pandas-features-you-probably-dont-know-about-5533498aac88"
      ],
      "metadata": {
        "id": "y26RdeHhOrdx"
      }
    },
    {
      "cell_type": "markdown",
      "source": [
        "\n",
        "### Import libraries\n",
        "\n",
        "---\n",
        "\n"
      ],
      "metadata": {
        "id": "KPSn7PvKLQWo"
      }
    },
    {
      "cell_type": "code",
      "source": [
        "import math\n",
        "import itertools\n",
        "import numpy as np\n",
        "import scipy.stats as stats\n",
        "import matplotlib.pyplot as plt\n",
        "import pandas as pd\n",
        "import random\n",
        "import seaborn as sns"
      ],
      "metadata": {
        "id": "JM7FZRO7OsWb"
      },
      "execution_count": 1,
      "outputs": []
    },
    {
      "cell_type": "code",
      "source": [
        "from sklearn.ensemble import RandomForestRegressor\n",
        "from sklearn.model_selection import TimeSeriesSplit\n",
        "from sklearn.metrics import mean_squared_error,mean_absolute_error"
      ],
      "metadata": {
        "id": "PYaf7yrfLSxv"
      },
      "execution_count": 2,
      "outputs": []
    },
    {
      "cell_type": "markdown",
      "source": [
        "### Generating Geometric Brownian motion\n",
        "\n",
        "---"
      ],
      "metadata": {
        "id": "TDXxYN0483EV"
      }
    },
    {
      "cell_type": "code",
      "source": [
        "# gbm.py\n",
        "\n",
        "import os\n",
        "import random\n",
        "import string\n",
        "import numpy as np\n",
        "import pandas as pd\n",
        "\n",
        "\n",
        "class GeometricBrownianMotionAssetSimulator:\n",
        "    \"\"\"\n",
        "    This callable class will generate a daily\n",
        "    open-high-low-close-volume (OHLCV) based DataFrame to simulate\n",
        "    asset pricing paths with Geometric Brownian Motion for pricing\n",
        "    and a Pareto distribution for volume.\n",
        "\n",
        "    It will output the results to a CSV with a randomly generated\n",
        "    ticker smbol.\n",
        "\n",
        "    For now the tool is hardcoded to generate business day daily\n",
        "    data between two dates, inclusive.\n",
        "\n",
        "    Note that the pricing and volume data is completely uncorrelated,\n",
        "    which is not likely to be the case in real asset paths.\n",
        "\n",
        "    Parameters\n",
        "    ----------\n",
        "    start_date : `str`\n",
        "        The starting date in YYYY-MM-DD format.\n",
        "    end_date : `str`\n",
        "        The ending date in YYYY-MM-DD format.\n",
        "    init_price : `float`\n",
        "        The initial price of the asset.\n",
        "    mu : `float`\n",
        "        The mean 'drift' of the asset.\n",
        "    sigma : `float`\n",
        "        The 'volatility' of the asset.\n",
        "    \"\"\"\n",
        "\n",
        "    def __init__(\n",
        "        self,\n",
        "        start_date,\n",
        "        end_date,\n",
        "        init_price,\n",
        "        mu,\n",
        "        sigma,\n",
        "    ):\n",
        "        self.start_date = start_date\n",
        "        self.end_date = end_date\n",
        "        self.init_price = init_price\n",
        "        self.mu = mu\n",
        "        self.sigma = sigma\n",
        "\n",
        "    def _generate_random_symbol(self):\n",
        "        \"\"\"\n",
        "        Generates a random ticker symbol string composed of\n",
        "        uppercase ASCII characters to use in the CSV output filename.\n",
        "\n",
        "        Returns\n",
        "        -------\n",
        "        `str`\n",
        "            The random ticker string composed of uppercase letters.\n",
        "        \"\"\"\n",
        "        return ''.join(\n",
        "            random.choices(\n",
        "                string.ascii_uppercase,\n",
        "                k=4\n",
        "            )\n",
        "        )\n",
        "\n",
        "    def _create_empty_frame(self,symbol):\n",
        "        \"\"\"\n",
        "        Creates the empty Pandas DataFrame with a date column using\n",
        "        business days between two dates. Each of the price/volume\n",
        "        columns are set to zero.\n",
        "\n",
        "        Returns\n",
        "        -------\n",
        "        `pd.DataFrame`\n",
        "            The empty OHLCV DataFrame for subsequent population.\n",
        "        \"\"\"\n",
        "        date_range = pd.date_range(\n",
        "            self.start_date,\n",
        "            self.end_date,\n",
        "            freq='B'\n",
        "        )\n",
        "\n",
        "        zeros = pd.Series(np.zeros(len(date_range)))\n",
        "\n",
        "        return pd.DataFrame(\n",
        "            {\n",
        "                'date': date_range,\n",
        "                symbol: zeros\n",
        "            }\n",
        "        )[['date', symbol]]\n",
        "\n",
        "    def _create_geometric_brownian_motion(self, data):\n",
        "        \"\"\"\n",
        "        Calculates an asset price path using the analytical solution\n",
        "        to the Geometric Brownian Motion stochastic differential\n",
        "        equation (SDE).\n",
        "\n",
        "        This divides the usual timestep by four so that the pricing\n",
        "        series is four times as long, to account for the need to have\n",
        "        an open, high, low and close price for each day. These prices\n",
        "        are subsequently correctly bounded in a further method.\n",
        "\n",
        "        Parameters\n",
        "        ----------\n",
        "        data : `pd.DataFrame`\n",
        "            The DataFrame needed to calculate length of the time series.\n",
        "\n",
        "        Returns\n",
        "        -------\n",
        "        `np.ndarray`\n",
        "            The asset price path (four times as long to include OHLC).\n",
        "        \"\"\"\n",
        "        n = len(data)\n",
        "        T = n / 252.0  # Business days in a year\n",
        "        dt = T / (4.0 * n)  # 4.0 is needed as four prices per day are required\n",
        "        \n",
        "        # Vectorised implementation of asset path generation\n",
        "        # including four prices per day, used to create OHLC\n",
        "        asset_path = np.exp(\n",
        "            (self.mu - self.sigma**2 / 2) * dt +\n",
        "            self.sigma * np.random.normal(0, np.sqrt(dt), size=(4 * n))\n",
        "        )\n",
        "        \n",
        "        return self.init_price * asset_path.cumprod()\n",
        "\n",
        "    def _append_path_to_data(self, data, path,symbol):\n",
        "        \"\"\"\n",
        "        Correctly accounts for the max/min calculations required\n",
        "        to generate a correct high and low price for a particular\n",
        "        day's pricing.\n",
        "\n",
        "        The open price takes every fourth value, while the close\n",
        "        price takes every fourth value offset by 3 (last value in\n",
        "        every block of four).\n",
        "\n",
        "        The high and low prices are calculated by taking the max\n",
        "        (resp. min) of all four prices within a day and then\n",
        "        adjusting these values as necessary.\n",
        "\n",
        "        This is all carried out in place so the frame is not returned\n",
        "        via the method.\n",
        "\n",
        "        Parameters\n",
        "        ----------\n",
        "        data : `pd.DataFrame`\n",
        "            The price/volume DataFrame to modify in place.\n",
        "        path : `np.ndarray`\n",
        "            The original NumPy array of the asset price path.\n",
        "        \"\"\"\n",
        "        data[symbol] = path[3::4]\n",
        "\n",
        "\n",
        "    def __call__(self):\n",
        "        \"\"\"\n",
        "        The entrypoint for generating the asset OHLCV frame. Firstly this\n",
        "        generates a symbol and an empty frame. It then populates this\n",
        "        frame with some simulated GBM data. The asset volume is then appended\n",
        "        to this data and finally it is saved to disk as a CSV.\n",
        "        \"\"\"\n",
        "        symbol = self._generate_random_symbol()\n",
        "        data = self._create_empty_frame()\n",
        "        path = self._create_geometric_brownian_motion(data)\n",
        "        self._append_path_to_data(data, path)\n",
        "\n",
        "\n",
        "def gen(random_seed, start_date, end_date, init_price, mu, sigma):\n",
        "    random_seed = int(random_seed)\n",
        "    init_price = float(init_price)\n",
        "    mu = float(mu)\n",
        "    sigma = float(sigma)\n",
        "\n",
        "    # Need to seed both Python and NumPy separately\n",
        "    random.seed(random_seed)\n",
        "    np.random.seed(seed=random_seed)\n",
        "\n",
        "    gbmas = GeometricBrownianMotionAssetSimulator(\n",
        "        start_date,\n",
        "        end_date,\n",
        "        init_price,\n",
        "        mu,\n",
        "        sigma,\n",
        "    )\n",
        "    return gbmas\n",
        "     "
      ],
      "metadata": {
        "id": "I13WHURmDw_6"
      },
      "execution_count": null,
      "outputs": []
    },
    {
      "cell_type": "code",
      "source": [
        "start_data = \"2022-01-01\"\n",
        "end_data = \"2022-12-31\""
      ],
      "metadata": {
        "id": "KYsycvhozg_t"
      },
      "execution_count": null,
      "outputs": []
    },
    {
      "cell_type": "code",
      "source": [
        "df = []\n",
        "for i in range(0,10):\n",
        "  stock = gen(i, start_data, end_data,100,0.1,0.2)\n",
        "\n",
        "  symbol = stock._generate_random_symbol()        \n",
        "  data = stock._create_empty_frame(symbol)\n",
        "  path = stock._create_geometric_brownian_motion(data)\n",
        "  stock._append_path_to_data(data, path,symbol)\n",
        "\n",
        "  if i == 0:\n",
        "    df = data.copy()\n",
        "  else:\n",
        "    df = pd.concat([df,data[symbol]], axis = 1)\n",
        "\n",
        "df = df.set_index(\"date\")"
      ],
      "metadata": {
        "id": "wk0nJvY80JGU",
        "outputId": "04408a65-d81f-458a-d3e3-dd34eae5e47c",
        "colab": {
          "base_uri": "https://localhost:8080/",
          "height": 244
        }
      },
      "execution_count": 3,
      "outputs": [
        {
          "output_type": "error",
          "ename": "NameError",
          "evalue": "ignored",
          "traceback": [
            "\u001b[0;31m---------------------------------------------------------------------------\u001b[0m",
            "\u001b[0;31mNameError\u001b[0m                                 Traceback (most recent call last)",
            "\u001b[0;32m<ipython-input-3-51575918e3b3>\u001b[0m in \u001b[0;36m<module>\u001b[0;34m\u001b[0m\n\u001b[1;32m      1\u001b[0m \u001b[0mdf\u001b[0m \u001b[0;34m=\u001b[0m \u001b[0;34m[\u001b[0m\u001b[0;34m]\u001b[0m\u001b[0;34m\u001b[0m\u001b[0;34m\u001b[0m\u001b[0m\n\u001b[1;32m      2\u001b[0m \u001b[0;32mfor\u001b[0m \u001b[0mi\u001b[0m \u001b[0;32min\u001b[0m \u001b[0mrange\u001b[0m\u001b[0;34m(\u001b[0m\u001b[0;36m0\u001b[0m\u001b[0;34m,\u001b[0m\u001b[0;36m10\u001b[0m\u001b[0;34m)\u001b[0m\u001b[0;34m:\u001b[0m\u001b[0;34m\u001b[0m\u001b[0;34m\u001b[0m\u001b[0m\n\u001b[0;32m----> 3\u001b[0;31m   \u001b[0mstock\u001b[0m \u001b[0;34m=\u001b[0m \u001b[0mgen\u001b[0m\u001b[0;34m(\u001b[0m\u001b[0mi\u001b[0m\u001b[0;34m,\u001b[0m \u001b[0mstart_data\u001b[0m\u001b[0;34m,\u001b[0m \u001b[0mend_data\u001b[0m\u001b[0;34m,\u001b[0m\u001b[0;36m100\u001b[0m\u001b[0;34m,\u001b[0m\u001b[0;36m0.1\u001b[0m\u001b[0;34m,\u001b[0m\u001b[0;36m0.2\u001b[0m\u001b[0;34m)\u001b[0m\u001b[0;34m\u001b[0m\u001b[0;34m\u001b[0m\u001b[0m\n\u001b[0m\u001b[1;32m      4\u001b[0m \u001b[0;34m\u001b[0m\u001b[0m\n\u001b[1;32m      5\u001b[0m   \u001b[0msymbol\u001b[0m \u001b[0;34m=\u001b[0m \u001b[0mstock\u001b[0m\u001b[0;34m.\u001b[0m\u001b[0m_generate_random_symbol\u001b[0m\u001b[0;34m(\u001b[0m\u001b[0;34m)\u001b[0m\u001b[0;34m\u001b[0m\u001b[0;34m\u001b[0m\u001b[0m\n",
            "\u001b[0;31mNameError\u001b[0m: name 'gen' is not defined"
          ]
        }
      ]
    },
    {
      "cell_type": "code",
      "source": [
        "display(df)"
      ],
      "metadata": {
        "colab": {
          "base_uri": "https://localhost:8080/",
          "height": 171
        },
        "id": "d26QM5Co0JQW",
        "outputId": "8851344e-217e-473b-a9f0-31c775168b87"
      },
      "execution_count": 4,
      "outputs": [
        {
          "output_type": "error",
          "ename": "NameError",
          "evalue": "ignored",
          "traceback": [
            "\u001b[0;31m---------------------------------------------------------------------------\u001b[0m",
            "\u001b[0;31mNameError\u001b[0m                                 Traceback (most recent call last)",
            "\u001b[0;32m<ipython-input-4-18d12aaa6a75>\u001b[0m in \u001b[0;36m<module>\u001b[0;34m\u001b[0m\n\u001b[0;32m----> 1\u001b[0;31m \u001b[0mdisplay\u001b[0m\u001b[0;34m(\u001b[0m\u001b[0mdF\u001b[0m\u001b[0;34m)\u001b[0m\u001b[0;34m\u001b[0m\u001b[0;34m\u001b[0m\u001b[0m\n\u001b[0m",
            "\u001b[0;31mNameError\u001b[0m: name 'dF' is not defined"
          ]
        }
      ]
    },
    {
      "cell_type": "code",
      "source": [
        "n = random.randint(0,10)"
      ],
      "metadata": {
        "id": "KTejMWRGsJ0_"
      },
      "execution_count": null,
      "outputs": []
    },
    {
      "cell_type": "code",
      "source": [
        "X = df.copy()\n",
        "X.drop(X.columns[n], axis=1, inplace = True)\n",
        "y = df.iloc[:,n]"
      ],
      "metadata": {
        "colab": {
          "base_uri": "https://localhost:8080/"
        },
        "id": "AmbngRR6CP1k",
        "outputId": "17497ecb-cac9-4c40-d027-722784df6813"
      },
      "execution_count": null,
      "outputs": [
        {
          "output_type": "execute_result",
          "data": {
            "text/plain": [
              "date\n",
              "2022-01-03    103.482514\n",
              "2022-01-04    104.622631\n",
              "2022-01-05    105.919790\n",
              "2022-01-06    107.067359\n",
              "2022-01-07    107.607129\n",
              "                 ...    \n",
              "2022-12-26     81.680693\n",
              "2022-12-27     81.086107\n",
              "2022-12-28     81.102855\n",
              "2022-12-29     81.607482\n",
              "2022-12-30     81.828511\n",
              "Name: VTKG, Length: 260, dtype: float64"
            ]
          },
          "metadata": {},
          "execution_count": 124
        }
      ]
    },
    {
      "cell_type": "code",
      "source": [
        "corr_mat = np.abs(X.corr())\n",
        "fig, ax = plt.subplots(figsize=(20,20))\n",
        "sns.heatmap(corr_mat,square = True, ax = ax)"
      ],
      "metadata": {
        "colab": {
          "base_uri": "https://localhost:8080/",
          "height": 1000
        },
        "id": "iv_ltdT1DZuE",
        "outputId": "94b12958-6314-46e2-ab3b-689d59dccb75"
      },
      "execution_count": null,
      "outputs": [
        {
          "output_type": "execute_result",
          "data": {
            "text/plain": [
              "<matplotlib.axes._subplots.AxesSubplot at 0x7f52ce00f390>"
            ]
          },
          "metadata": {},
          "execution_count": 126
        },
        {
          "output_type": "display_data",
          "data": {
            "text/plain": [
              "<Figure size 1440x1440 with 2 Axes>"
            ],
            "image/png": "[encoded data removed]"
          },
          "metadata": {
            "needs_background": "light"
          }
        }
      ]
    },
    {
      "cell_type": "code",
      "source": [],
      "metadata": {
        "id": "bnXnRzOjI2tw"
      },
      "execution_count": null,
      "outputs": []
    }
  ]
}